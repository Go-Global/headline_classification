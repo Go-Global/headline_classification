{
 "cells": [
  {
   "cell_type": "markdown",
   "metadata": {},
   "source": [
    "## Import Libraries\n",
    "Loading all libraries to be used"
   ]
  },
  {
   "cell_type": "code",
   "execution_count": 2,
   "metadata": {},
   "outputs": [],
   "source": [
    "import sys\n",
    "# !{sys.executable} -m pip uninstall imblearn\n",
    "# !{sys.executable} -m pip install imbalanced-learn --user\n",
    "# !{sys.executable} -m pip install wordcloud --user"
   ]
  },
  {
   "cell_type": "code",
   "execution_count": 3,
   "metadata": {},
   "outputs": [
    {
     "name": "stderr",
     "output_type": "stream",
     "text": [
      "[nltk_data] Downloading package stopwords to\n",
      "[nltk_data]     C:\\Users\\Stefa\\AppData\\Roaming\\nltk_data...\n",
      "[nltk_data]   Package stopwords is already up-to-date!\n"
     ]
    }
   ],
   "source": [
    "import copy\n",
    "import numpy as np\n",
    "import matplotlib.pyplot as plt\n",
    "import re\n",
    "import nltk\n",
    "nltk.download('stopwords')\n",
    "from sklearn.model_selection import train_test_split\n",
    "from sklearn.feature_extraction.text import CountVectorizer\n",
    "from sklearn.preprocessing import LabelEncoder\n",
    "from sklearn.feature_selection import VarianceThreshold\n",
    "import imblearn\n",
    "from imblearn.over_sampling import SMOTE\n",
    "from sklearn.dummy import DummyClassifier\n",
    "from sklearn.naive_bayes import MultinomialNB\n",
    "from sklearn.tree import DecisionTreeClassifier\n",
    "from sklearn.neural_network import MLPClassifier\n",
    "from sklearn.ensemble import RandomForestClassifier\n",
    "#from sklearn.metrics import accuracy_score\n",
    "#from sklearn.model_selection import cross_val_score, KFold\n",
    "from sklearn.metrics import confusion_matrix\n",
    "from sklearn.metrics import classification_report\n",
    "import seaborn as sns\n",
    "import pandas as pd"
   ]
  },
  {
   "cell_type": "markdown",
   "metadata": {},
   "source": [
    "# Data preparation\n",
    "## Load data\n",
    "Lets load the data from _dsjVoxArticles.tsv_ file. We will clean the title to remove special characters and punctuations. We will store title in _titles_ and Category in _categories_"
   ]
  },
  {
   "cell_type": "code",
   "execution_count": 4,
   "metadata": {},
   "outputs": [],
   "source": [
    "categories = ['POLITICS','WELLNESS','ENTERTAINMENT','TRAVEL','STYLE & BEAUTY','PARENTING','HEALTHY LIVING','QUEER VOICES','FOOD & DRINK','BUSINESS','COMEDY','SPORTS','BLACK VOICES','HOME & LIVING','PARENTS','THE WORLDPOST','WEDDINGS','WOMEN','IMPACT','DIVORCE','CRIME','MEDIA','WEIRD NEWS','GREEN','WORLDPOST','RELIGION','STYLE','SCIENCE','WORLD NEWS','TASTE','TECH','MONEY','ARTS','FIFTY','GOOD NEWS','ARTS & CULTURE','ENVIRONMENT','COLLEGE','LATINO VOICES','CULTURE & ARTS','EDUCATION']"
   ]
  },
  {
   "cell_type": "code",
   "execution_count": 94,
   "metadata": {},
   "outputs": [
    {
     "data": {
      "text/plain": [
       "[]"
      ]
     },
     "execution_count": 94,
     "metadata": {},
     "output_type": "execute_result"
    }
   ],
   "source": [
    "final_categories = ['POLITICS', 'DIVERSITY', 'LIFESTYLE & ENTERTAINMENT', 'BUSINESS & FINANCE', 'TRAVEL', 'SPORTS', 'CRIME','SCIENCE & TECH','ENVIRONMENT','ARTS & CULTURE','EDUCATION']\n",
    "\n",
    "comb = dict()\n",
    "comb[\"ENTERTAINMENT\"] = \"LIFESTYLE & ENTERTAINMENT\"\n",
    "# comb[\"WELLNESS\"] = \"LIFESTYLE & ENTERTAINMENT\"\n",
    "comb[\"STYLE & BEAUTY\"] = \"LIFESTYLE & ENTERTAINMENT\"\n",
    "# comb[\"PARENTING\"] = \"LIFESTYLE & ENTERTAINMENT\"\n",
    "# comb[\"HEALTHY LIVING\"] = \"LIFESTYLE & ENTERTAINMENT\"\n",
    "comb[\"QUEER VOICES\"] = \"DIVERSITY\"\n",
    "# comb[\"FOOD & DRINK\"] = \"LIFESTYLE & ENTERTAINMENT\"\n",
    "comb[\"BUSINESS\"] = \"BUSINESS & FINANCE\"\n",
    "comb[\"COMEDY\"] = \"LIFESTYLE & ENTERTAINMENT\"\n",
    "comb[\"BLACK VOICES\"] = \"DIVERSITY\"\n",
    "# comb[\"HOME & LIVING\"] = \"LIFESTYLE & ENTERTAINMENT\"\n",
    "# comb[\"PARENTS\"] = \"LIFESTYLE & ENTERTAINMENT\"\n",
    "comb[\"WEDDINGS\"] = \"LIFESTYLE & ENTERTAINMENT\"\n",
    "# comb[\"WOMEN\"] = \"DIVERSITY\"\n",
    "comb[\"IMPACT\"] = \"ENVIRONMENT\"\n",
    "comb[\"DIVORCE\"] = \"LIFESTYLE & ENTERTAINMENT\"\n",
    "comb[\"WEDDINGS\"] = \"LIFESTYLE & ENTERTAINMENT\"\n",
    "comb[\"GREEN\"] = \"ENVIRONMENT\"\n",
    "comb[\"RELIGION\"] = \"ARTS & CULTURE\"\n",
    "comb[\"STYLE\"] = \"LIFESTYLE & ENTERTAINMENT\"\n",
    "comb[\"SCIENCE\"] = \"SCIENCE & TECHNOLOGY\"\n",
    "comb[\"TASTE\"] = \"LIFESTYLE & ENTERTAINMENT\"\n",
    "comb[\"TECH\"] = \"SCIENCE & TECHNOLOGY\"\n",
    "comb[\"MONEY\"] = \"BUSINESS & FINANCE\"\n",
    "comb[\"ARTS\"] = \"ARTS & CULTURE\"\n",
    "comb[\"COLLEGE\"] = \"EDUCATION\"\n",
    "comb[\"LATINO VOICES\"] = \"DIVERSITY\"\n",
    "comb[\"CULTURE & ARTS\"] = \"ARTS & CULTURE\"\n",
    "\n",
    "dropped_categories = [\"THE WORLDPOST\", \"MEDIA\", \"WORLDPOST\", \"WORLD NEWS\", \"FIFTY\", \"GOOD NEWS\", \"WELLNESS\", \"HEALTHY LIVING\", \"FOOD & DRINK\", \"PARENTING\", \"HOME & LIVING\", \"PARENTS\", \"WOMEN\", \"WEIRD NEWS\"]\n",
    "diff = [category for category in categories if category not in final_categories and category not in comb.keys()]\n",
    "diff"
   ]
  },
  {
   "cell_type": "code",
   "execution_count": 163,
   "metadata": {},
   "outputs": [
    {
     "name": "stdout",
     "output_type": "stream",
     "text": [
      "[('POLITICS', 32630), ('WELLNESS', 17825), ('ENTERTAINMENT', 16004), ('TRAVEL', 9855), ('STYLE & BEAUTY', 9648), ('PARENTING', 8677), ('HEALTHY LIVING', 6568), ('QUEER VOICES', 6303), ('FOOD & DRINK', 6224), ('WORLDPOST', 6192), ('BUSINESS', 5898), ('COMEDY', 5022), ('SPORTS', 4845), ('BLACK VOICES', 4516), ('HOME & LIVING', 4193), ('PARENTS', 3948), ('WEDDINGS', 3651), ('WOMEN', 3467), ('IMPACT', 3438), ('DIVORCE', 3426), ('CRIME', 3390), ('MEDIA', 2792), ('WEIRD NEWS', 2648), ('GREEN', 2605), ('RELIGION', 2501), ('STYLE', 2242), ('WORLD NEWS', 2177), ('SCIENCE', 2173), ('TECH', 2080), ('TASTE', 2075), ('MONEY', 1707), ('ARTS', 1480), ('GOOD NEWS', 1385), ('FIFTY', 1381), ('ARTS & CULTURE', 1339), ('ENVIRONMENT', 1323), ('COLLEGE', 1139), ('LATINO VOICES', 1127), ('CULTURE & ARTS', 1029), ('EDUCATION', 991)]\n",
      "199914\n"
     ]
    },
    {
     "data": {
      "text/html": [
       "<div>\n",
       "<style scoped>\n",
       "    .dataframe tbody tr th:only-of-type {\n",
       "        vertical-align: middle;\n",
       "    }\n",
       "\n",
       "    .dataframe tbody tr th {\n",
       "        vertical-align: top;\n",
       "    }\n",
       "\n",
       "    .dataframe thead th {\n",
       "        text-align: right;\n",
       "    }\n",
       "</style>\n",
       "<table border=\"1\" class=\"dataframe\">\n",
       "  <thead>\n",
       "    <tr style=\"text-align: right;\">\n",
       "      <th></th>\n",
       "      <th>Unnamed: 0</th>\n",
       "      <th>category</th>\n",
       "      <th>text</th>\n",
       "    </tr>\n",
       "  </thead>\n",
       "  <tbody>\n",
       "    <tr>\n",
       "      <th>0</th>\n",
       "      <td>0</td>\n",
       "      <td>CRIME</td>\n",
       "      <td>There Were 2 Mass Shootings In Texas Last Week...</td>\n",
       "    </tr>\n",
       "    <tr>\n",
       "      <th>1</th>\n",
       "      <td>1</td>\n",
       "      <td>ENTERTAINMENT</td>\n",
       "      <td>Will Smith Joins Diplo And Nicky Jam For The 2...</td>\n",
       "    </tr>\n",
       "    <tr>\n",
       "      <th>2</th>\n",
       "      <td>2</td>\n",
       "      <td>ENTERTAINMENT</td>\n",
       "      <td>Hugh Grant Marries For The First Time At Age 5...</td>\n",
       "    </tr>\n",
       "    <tr>\n",
       "      <th>3</th>\n",
       "      <td>3</td>\n",
       "      <td>ENTERTAINMENT</td>\n",
       "      <td>Jim Carrey Blasts 'Castrato' Adam Schiff And D...</td>\n",
       "    </tr>\n",
       "    <tr>\n",
       "      <th>4</th>\n",
       "      <td>4</td>\n",
       "      <td>ENTERTAINMENT</td>\n",
       "      <td>Julianna Margulies Uses Donald Trump Poop Bags...</td>\n",
       "    </tr>\n",
       "  </tbody>\n",
       "</table>\n",
       "</div>"
      ],
      "text/plain": [
       "   Unnamed: 0       category  \\\n",
       "0           0          CRIME   \n",
       "1           1  ENTERTAINMENT   \n",
       "2           2  ENTERTAINMENT   \n",
       "3           3  ENTERTAINMENT   \n",
       "4           4  ENTERTAINMENT   \n",
       "\n",
       "                                                text  \n",
       "0  There Were 2 Mass Shootings In Texas Last Week...  \n",
       "1  Will Smith Joins Diplo And Nicky Jam For The 2...  \n",
       "2  Hugh Grant Marries For The First Time At Age 5...  \n",
       "3  Jim Carrey Blasts 'Castrato' Adam Schiff And D...  \n",
       "4  Julianna Margulies Uses Donald Trump Poop Bags...  "
      ]
     },
     "execution_count": 163,
     "metadata": {},
     "output_type": "execute_result"
    }
   ],
   "source": [
    "from collections import Counter\n",
    "\n",
    "def clean_title(title):\n",
    "    title = title.lower()\n",
    "    title = re.sub('\\s\\W',' ',title)\n",
    "    title = re.sub('\\W\\s',' ',title)\n",
    "    return title\n",
    "\n",
    "\n",
    "\n",
    "data = pd.read_csv('cleaned.csv')\n",
    "category_counter = Counter(data[\"category\"])\n",
    "# with open('dsjVoxArticles.csv','r') as tsv:\n",
    "# with open('cleaned.csv','rb') as csv:\n",
    "#     prev1, prev2 = None, None\n",
    "#     count = 0;\n",
    "#     for line in csv:\n",
    "#         tokens = line.decode('utf-8').strip().split(',')[:3]\n",
    "#         count += 1\n",
    "#         prev2 = prev1\n",
    "#         prev1 = tokens\n",
    "# #         print(tokens)\n",
    "#         if len(tokens) != 3:\n",
    "#             print(prev2, prev1, tokens)\n",
    "#             continue\n",
    "# #         assert len(tokens) == 3, str(tokens)\n",
    "#         category_counter[tokens[1]] += 1\n",
    "# #         if tokens[2] in ['Business & Finance', 'Health Care', 'Science & Health', 'Politics & Policy', 'Criminal Justice']:\n",
    "# #             titles.append(clean_title(a[0].lower()))\n",
    "# #             categories.append(a[2])\n",
    "print(category_counter.most_common(100))\n",
    "print(len(data))\n",
    "data.head()"
   ]
  },
  {
   "cell_type": "code",
   "execution_count": 166,
   "metadata": {},
   "outputs": [
    {
     "data": {
      "text/html": [
       "<div>\n",
       "<style scoped>\n",
       "    .dataframe tbody tr th:only-of-type {\n",
       "        vertical-align: middle;\n",
       "    }\n",
       "\n",
       "    .dataframe tbody tr th {\n",
       "        vertical-align: top;\n",
       "    }\n",
       "\n",
       "    .dataframe thead th {\n",
       "        text-align: right;\n",
       "    }\n",
       "</style>\n",
       "<table border=\"1\" class=\"dataframe\">\n",
       "  <thead>\n",
       "    <tr style=\"text-align: right;\">\n",
       "      <th></th>\n",
       "      <th>Unnamed: 0</th>\n",
       "      <th>category</th>\n",
       "      <th>text</th>\n",
       "    </tr>\n",
       "  </thead>\n",
       "  <tbody>\n",
       "    <tr>\n",
       "      <th>11</th>\n",
       "      <td>11</td>\n",
       "      <td>WORLD NEWS</td>\n",
       "      <td>South Korean President Meets North Korea's Kim...</td>\n",
       "    </tr>\n",
       "    <tr>\n",
       "      <th>23</th>\n",
       "      <td>23</td>\n",
       "      <td>WORLD NEWS</td>\n",
       "      <td>North Korea Still Open To Talks After Trump Ca...</td>\n",
       "    </tr>\n",
       "    <tr>\n",
       "      <th>24</th>\n",
       "      <td>24</td>\n",
       "      <td>WORLD NEWS</td>\n",
       "      <td>2 Men Detonate Bomb Inside Indian Restaurant N...</td>\n",
       "    </tr>\n",
       "    <tr>\n",
       "      <th>25</th>\n",
       "      <td>25</td>\n",
       "      <td>WORLD NEWS</td>\n",
       "      <td>Thousands Travel Home To Ireland To Vote On Ab...</td>\n",
       "    </tr>\n",
       "    <tr>\n",
       "      <th>26</th>\n",
       "      <td>26</td>\n",
       "      <td>WORLD NEWS</td>\n",
       "      <td>Irish Voters Set To Liberalize Abortion Laws I...</td>\n",
       "    </tr>\n",
       "    <tr>\n",
       "      <th>...</th>\n",
       "      <td>...</td>\n",
       "      <td>...</td>\n",
       "      <td>...</td>\n",
       "    </tr>\n",
       "    <tr>\n",
       "      <th>26027</th>\n",
       "      <td>26030</td>\n",
       "      <td>WORLD NEWS</td>\n",
       "      <td>The Riyadh Summits: A Workshop For A Global Fr...</td>\n",
       "    </tr>\n",
       "    <tr>\n",
       "      <th>26036</th>\n",
       "      <td>26039</td>\n",
       "      <td>WORLD NEWS</td>\n",
       "      <td>Donald Of Arabia If Trump continues on this pa...</td>\n",
       "    </tr>\n",
       "    <tr>\n",
       "      <th>26044</th>\n",
       "      <td>26047</td>\n",
       "      <td>WORLD NEWS</td>\n",
       "      <td>Resistance Grows Against Hungarian Government'...</td>\n",
       "    </tr>\n",
       "    <tr>\n",
       "      <th>26106</th>\n",
       "      <td>26109</td>\n",
       "      <td>WORLD NEWS</td>\n",
       "      <td>Trump’s Counter-Extremism Effort Should Addres...</td>\n",
       "    </tr>\n",
       "    <tr>\n",
       "      <th>29754</th>\n",
       "      <td>29757</td>\n",
       "      <td>WORLD NEWS</td>\n",
       "      <td>What You Need To Know About North Korea's Nucl...</td>\n",
       "    </tr>\n",
       "  </tbody>\n",
       "</table>\n",
       "<p>2177 rows × 3 columns</p>\n",
       "</div>"
      ],
      "text/plain": [
       "       Unnamed: 0    category  \\\n",
       "11             11  WORLD NEWS   \n",
       "23             23  WORLD NEWS   \n",
       "24             24  WORLD NEWS   \n",
       "25             25  WORLD NEWS   \n",
       "26             26  WORLD NEWS   \n",
       "...           ...         ...   \n",
       "26027       26030  WORLD NEWS   \n",
       "26036       26039  WORLD NEWS   \n",
       "26044       26047  WORLD NEWS   \n",
       "26106       26109  WORLD NEWS   \n",
       "29754       29757  WORLD NEWS   \n",
       "\n",
       "                                                    text  \n",
       "11     South Korean President Meets North Korea's Kim...  \n",
       "23     North Korea Still Open To Talks After Trump Ca...  \n",
       "24     2 Men Detonate Bomb Inside Indian Restaurant N...  \n",
       "25     Thousands Travel Home To Ireland To Vote On Ab...  \n",
       "26     Irish Voters Set To Liberalize Abortion Laws I...  \n",
       "...                                                  ...  \n",
       "26027  The Riyadh Summits: A Workshop For A Global Fr...  \n",
       "26036  Donald Of Arabia If Trump continues on this pa...  \n",
       "26044  Resistance Grows Against Hungarian Government'...  \n",
       "26106  Trump’s Counter-Extremism Effort Should Addres...  \n",
       "29754  What You Need To Know About North Korea's Nucl...  \n",
       "\n",
       "[2177 rows x 3 columns]"
      ]
     },
     "execution_count": 166,
     "metadata": {},
     "output_type": "execute_result"
    }
   ],
   "source": [
    "# Sample headlines of a category\n",
    "data[data[\"category\"] == \"WORLD NEWS\"]"
   ]
  },
  {
   "cell_type": "code",
   "execution_count": 96,
   "metadata": {},
   "outputs": [
    {
     "name": "stdout",
     "output_type": "stream",
     "text": [
      "[('LIFESTYLE & ENTERTAINMENT', 42068), ('POLITICS', 32630), ('DIVERSITY', 11946), ('TRAVEL', 9855), ('BUSINESS & FINANCE', 7605), ('ENVIRONMENT', 7366), ('ARTS & CULTURE', 6349), ('SPORTS', 4845), ('SCIENCE & TECHNOLOGY', 4253), ('CRIME', 3390), ('EDUCATION', 2130)]\n",
      "132437\n"
     ]
    },
    {
     "data": {
      "text/html": [
       "<div>\n",
       "<style scoped>\n",
       "    .dataframe tbody tr th:only-of-type {\n",
       "        vertical-align: middle;\n",
       "    }\n",
       "\n",
       "    .dataframe tbody tr th {\n",
       "        vertical-align: top;\n",
       "    }\n",
       "\n",
       "    .dataframe thead th {\n",
       "        text-align: right;\n",
       "    }\n",
       "</style>\n",
       "<table border=\"1\" class=\"dataframe\">\n",
       "  <thead>\n",
       "    <tr style=\"text-align: right;\">\n",
       "      <th></th>\n",
       "      <th>Unnamed: 0</th>\n",
       "      <th>category</th>\n",
       "      <th>text</th>\n",
       "      <th>new_category</th>\n",
       "    </tr>\n",
       "  </thead>\n",
       "  <tbody>\n",
       "    <tr>\n",
       "      <th>0</th>\n",
       "      <td>0</td>\n",
       "      <td>CRIME</td>\n",
       "      <td>There Were 2 Mass Shootings In Texas Last Week...</td>\n",
       "      <td>CRIME</td>\n",
       "    </tr>\n",
       "    <tr>\n",
       "      <th>1</th>\n",
       "      <td>1</td>\n",
       "      <td>ENTERTAINMENT</td>\n",
       "      <td>Will Smith Joins Diplo And Nicky Jam For The 2...</td>\n",
       "      <td>LIFESTYLE &amp; ENTERTAINMENT</td>\n",
       "    </tr>\n",
       "    <tr>\n",
       "      <th>2</th>\n",
       "      <td>2</td>\n",
       "      <td>ENTERTAINMENT</td>\n",
       "      <td>Hugh Grant Marries For The First Time At Age 5...</td>\n",
       "      <td>LIFESTYLE &amp; ENTERTAINMENT</td>\n",
       "    </tr>\n",
       "    <tr>\n",
       "      <th>3</th>\n",
       "      <td>3</td>\n",
       "      <td>ENTERTAINMENT</td>\n",
       "      <td>Jim Carrey Blasts 'Castrato' Adam Schiff And D...</td>\n",
       "      <td>LIFESTYLE &amp; ENTERTAINMENT</td>\n",
       "    </tr>\n",
       "    <tr>\n",
       "      <th>4</th>\n",
       "      <td>4</td>\n",
       "      <td>ENTERTAINMENT</td>\n",
       "      <td>Julianna Margulies Uses Donald Trump Poop Bags...</td>\n",
       "      <td>LIFESTYLE &amp; ENTERTAINMENT</td>\n",
       "    </tr>\n",
       "  </tbody>\n",
       "</table>\n",
       "</div>"
      ],
      "text/plain": [
       "   Unnamed: 0       category  \\\n",
       "0           0          CRIME   \n",
       "1           1  ENTERTAINMENT   \n",
       "2           2  ENTERTAINMENT   \n",
       "3           3  ENTERTAINMENT   \n",
       "4           4  ENTERTAINMENT   \n",
       "\n",
       "                                                text  \\\n",
       "0  There Were 2 Mass Shootings In Texas Last Week...   \n",
       "1  Will Smith Joins Diplo And Nicky Jam For The 2...   \n",
       "2  Hugh Grant Marries For The First Time At Age 5...   \n",
       "3  Jim Carrey Blasts 'Castrato' Adam Schiff And D...   \n",
       "4  Julianna Margulies Uses Donald Trump Poop Bags...   \n",
       "\n",
       "                new_category  \n",
       "0                      CRIME  \n",
       "1  LIFESTYLE & ENTERTAINMENT  \n",
       "2  LIFESTYLE & ENTERTAINMENT  \n",
       "3  LIFESTYLE & ENTERTAINMENT  \n",
       "4  LIFESTYLE & ENTERTAINMENT  "
      ]
     },
     "execution_count": 96,
     "metadata": {},
     "output_type": "execute_result"
    }
   ],
   "source": [
    "# Drop categories\n",
    "for drop in dropped_categories:\n",
    "    data.drop(data[data.category == drop].index, inplace=True)\n",
    "\n",
    "# Apply Map \n",
    "data[\"new_category\"] = data.apply(lambda row: comb[row.category] if row.category in comb.keys() else row.category, axis=1)\n",
    "category_counter = Counter(data[\"new_category\"])\n",
    "print(category_counter.most_common(100))\n",
    "print(len(data))\n",
    "data.head()"
   ]
  },
  {
   "cell_type": "markdown",
   "metadata": {},
   "source": [
    "We can print and check the data loaded in _titles_ and _categories_"
   ]
  },
  {
   "cell_type": "markdown",
   "metadata": {},
   "source": [
    "## Split data\n",
    "Split data into 3 parts - training, development and test. We will use training data to train out model and use development data to check and tune hyper parameters. And finally use test data to see how our model performs"
   ]
  },
  {
   "cell_type": "code",
   "execution_count": 114,
   "metadata": {},
   "outputs": [
    {
     "name": "stdout",
     "output_type": "stream",
     "text": [
      "Training:  74495\n",
      "Development:  24832\n",
      "Testing:  33110\n"
     ]
    }
   ],
   "source": [
    "data = data.sample(frac=1)\n",
    "\n",
    "# Subset\n",
    "subset = None#10000\n",
    "if subset:\n",
    "    title_tr, title_te, category_tr, category_te = train_test_split(data.text[:subset].to_numpy(), data.new_category[:subset].to_numpy())\n",
    "    title_tr, title_de, category_tr, category_de = train_test_split(title_tr, category_tr)\n",
    "else:\n",
    "    title_tr, title_te, category_tr, category_te = train_test_split(data.text.to_numpy(), data.new_category.to_numpy())\n",
    "    title_tr, title_de, category_tr, category_de = train_test_split(title_tr, category_tr)\n",
    "print(\"Training: \",len(title_tr))\n",
    "print(\"Development: \",len(title_de),)\n",
    "print(\"Testing: \",len(title_te))"
   ]
  },
  {
   "cell_type": "markdown",
   "metadata": {},
   "source": [
    "Using wordCload we can visualize our data."
   ]
  },
  {
   "cell_type": "code",
   "execution_count": 115,
   "metadata": {},
   "outputs": [],
   "source": [
    "from wordcloud import WordCloud\n",
    "viz = False\n",
    "if viz:\n",
    "    text = \" \".join(title_tr)\n",
    "    wordcloud = WordCloud().generate(text)\n",
    "    plt.figure()\n",
    "    plt.subplots(figsize=(20,12))\n",
    "    wordcloud = WordCloud(\n",
    "        background_color=\"white\",\n",
    "        max_words=len(text),\n",
    "        max_font_size=40,\n",
    "        relative_scaling=.5).generate(text)\n",
    "    plt.imshow(wordcloud)\n",
    "    plt.axis(\"off\")\n",
    "    plt.show()"
   ]
  },
  {
   "cell_type": "markdown",
   "metadata": {},
   "source": [
    "# Data Preprocessing\n",
    "## Vectorization of data\n",
    "Vectorize the data using Bag of words (BOW)"
   ]
  },
  {
   "cell_type": "code",
   "execution_count": 116,
   "metadata": {},
   "outputs": [
    {
     "name": "stderr",
     "output_type": "stream",
     "text": [
      "C:\\Users\\Stefa\\AppData\\Roaming\\Python\\Python37\\site-packages\\sklearn\\feature_extraction\\text.py:489: UserWarning: The parameter 'token_pattern' will not be used since 'tokenizer' is not None'\n",
      "  warnings.warn(\"The parameter 'token_pattern' will not be used\"\n"
     ]
    }
   ],
   "source": [
    "tokenizer = nltk.tokenize.RegexpTokenizer(r\"\\w+\")\n",
    "stop_words = nltk.corpus.stopwords.words(\"english\")\n",
    "vectorizer = CountVectorizer(tokenizer=tokenizer.tokenize, stop_words=stop_words)\n",
    "\n",
    "vectorizer.fit(iter(title_tr))\n",
    "Xtr = vectorizer.transform(iter(title_tr))\n",
    "Xde = vectorizer.transform(iter(title_de))\n",
    "Xte = vectorizer.transform(iter(title_te))\n",
    "\n",
    "encoder = LabelEncoder()\n",
    "encoder.fit(category_tr)\n",
    "Ytr = encoder.transform(category_tr)\n",
    "Yde = encoder.transform(category_de)\n",
    "Yte = encoder.transform(category_te)"
   ]
  },
  {
   "cell_type": "markdown",
   "metadata": {},
   "source": [
    "Lets look at what exactly is this vectorizer doing. We will first create reverse dictionary from the vectorizer. Iterating over the vectorized sentence _Nasa scientists are good_. We get the vector to be representative of three words \"good\", \"nasa\" and \"scientists\". The order has been changed because bag of words does not preserve order."
   ]
  },
  {
   "cell_type": "code",
   "execution_count": 117,
   "metadata": {},
   "outputs": [
    {
     "name": "stdout",
     "output_type": "stream",
     "text": [
      "good\n",
      "nasa\n",
      "scientists\n"
     ]
    }
   ],
   "source": [
    "reverse_vocabulary = {}\n",
    "vocabulary = vectorizer.vocabulary_\n",
    "for word in vocabulary:\n",
    "    index = vocabulary[word]\n",
    "    reverse_vocabulary[index] = word\n",
    "\n",
    "vector = vectorizer.transform(iter(['Nasa scientists are good']))\n",
    "indexes = vector.indices\n",
    "for i in indexes:\n",
    "    print (reverse_vocabulary[i])"
   ]
  },
  {
   "cell_type": "markdown",
   "metadata": {},
   "source": [
    "## Feature Reduction\n",
    "We can check the variance of the feature and drop them based on a threshold"
   ]
  },
  {
   "cell_type": "code",
   "execution_count": 118,
   "metadata": {},
   "outputs": [
    {
     "name": "stdout",
     "output_type": "stream",
     "text": [
      "Number of features before reduction :  56866\n",
      "Number of features after reduction :  3558\n"
     ]
    }
   ],
   "source": [
    "print(\"Number of features before reduction : \", Xtr.shape[1])\n",
    "selection = VarianceThreshold(threshold=0.001)\n",
    "Xtr_whole = copy.deepcopy(Xtr)\n",
    "Ytr_whole = copy.deepcopy(Ytr)\n",
    "selection.fit(Xtr)\n",
    "Xtr = selection.transform(Xtr)\n",
    "Xde = selection.transform(Xde)\n",
    "Xte = selection.transform(Xte)\n",
    "print(\"Number of features after reduction : \", Xtr.shape[1])"
   ]
  },
  {
   "cell_type": "markdown",
   "metadata": {},
   "source": [
    "## Sampling data\n",
    "We will count the number of diffrent labels in dataset and plot a pie chart distribution."
   ]
  },
  {
   "cell_type": "code",
   "execution_count": 119,
   "metadata": {},
   "outputs": [
    {
     "data": {
      "image/png": "[encoded data removed]",
      "text/plain": [
       "<Figure size 432x288 with 1 Axes>"
      ]
     },
     "metadata": {},
     "output_type": "display_data"
    }
   ],
   "source": [
    "labels = list(set(Ytr))\n",
    "counts = []\n",
    "for label in labels:\n",
    "    counts.append(np.count_nonzero(Ytr == label))\n",
    "plt.pie(counts, labels=labels, autopct='%1.1f%%')\n",
    "plt.show()"
   ]
  },
  {
   "cell_type": "markdown",
   "metadata": {},
   "source": [
    "As we can see the class labels are not uniformy distributed so we will use SMOT and oversample the classes which are less in number so that classes are equally distributed"
   ]
  },
  {
   "cell_type": "code",
   "execution_count": 120,
   "metadata": {},
   "outputs": [
    {
     "data": {
      "image/png": "[encoded data removed]",
      "text/plain": [
       "<Figure size 432x288 with 1 Axes>"
      ]
     },
     "metadata": {},
     "output_type": "display_data"
    }
   ],
   "source": [
    "from imblearn.over_sampling import SMOTE\n",
    "sm = SMOTE(random_state=42)\n",
    "Xtr, Ytr = sm.fit_resample(Xtr, Ytr)\n",
    "labels = list(set(Ytr))\n",
    "counts = []\n",
    "for label in labels:\n",
    "    counts.append(np.count_nonzero(Ytr == label))\n",
    "plt.pie(counts, labels=labels, autopct='%1.1f%%')\n",
    "plt.show()"
   ]
  },
  {
   "cell_type": "markdown",
   "metadata": {},
   "source": [
    "# Train Models\n",
    "### Baseline Model\n",
    "“stratified”: generates predictions by respecting the training set’s class distribution."
   ]
  },
  {
   "cell_type": "code",
   "execution_count": 90,
   "metadata": {},
   "outputs": [
    {
     "name": "stdout",
     "output_type": "stream",
     "text": [
      "                           precision    recall  f1-score   support\n",
      "\n",
      "           ARTS & CULTURE       0.06      0.13      0.08        77\n",
      "       BUSINESS & FINANCE       0.05      0.08      0.06        93\n",
      "                    CRIME       0.05      0.16      0.08        55\n",
      "                DIVERSITY       0.09      0.08      0.08       168\n",
      "                EDUCATION       0.02      0.15      0.04        26\n",
      "              ENVIRONMENT       0.10      0.16      0.12        95\n",
      "LIFESTYLE & ENTERTAINMENT       0.27      0.08      0.12       586\n",
      "                 POLITICS       0.25      0.08      0.12       464\n",
      "     SCIENCE & TECHNOLOGY       0.04      0.12      0.06        51\n",
      "                   SPORTS       0.01      0.02      0.02        81\n",
      "                   TRAVEL       0.11      0.12      0.12       144\n",
      "               WEIRD NEWS       0.01      0.06      0.02        35\n",
      "\n",
      "                 accuracy                           0.09      1875\n",
      "                macro avg       0.09      0.10      0.08      1875\n",
      "             weighted avg       0.18      0.09      0.10      1875\n",
      "\n"
     ]
    }
   ],
   "source": [
    "dc = DummyClassifier(strategy=\"stratified\")\n",
    "dc.fit(Xtr, Ytr)\n",
    "pred = dc.predict(Xde)\n",
    "print(classification_report(Yde, pred, target_names=encoder.classes_))"
   ]
  },
  {
   "cell_type": "markdown",
   "metadata": {},
   "source": [
    "### Multinomial Naive Bayesian"
   ]
  },
  {
   "cell_type": "code",
   "execution_count": 121,
   "metadata": {},
   "outputs": [
    {
     "name": "stdout",
     "output_type": "stream",
     "text": [
      "                           precision    recall  f1-score   support\n",
      "\n",
      "           ARTS & CULTURE       0.48      0.49      0.48      1224\n",
      "       BUSINESS & FINANCE       0.49      0.64      0.56      1379\n",
      "                    CRIME       0.48      0.73      0.58       609\n",
      "                DIVERSITY       0.55      0.58      0.56      2258\n",
      "                EDUCATION       0.43      0.49      0.46       383\n",
      "              ENVIRONMENT       0.45      0.57      0.50      1336\n",
      "LIFESTYLE & ENTERTAINMENT       0.86      0.71      0.78      7970\n",
      "                 POLITICS       0.82      0.76      0.79      6167\n",
      "     SCIENCE & TECHNOLOGY       0.52      0.46      0.49       803\n",
      "                   SPORTS       0.56      0.69      0.62       891\n",
      "                   TRAVEL       0.65      0.80      0.72      1812\n",
      "\n",
      "                 accuracy                           0.68     24832\n",
      "                macro avg       0.57      0.63      0.59     24832\n",
      "             weighted avg       0.71      0.68      0.69     24832\n",
      "\n"
     ]
    }
   ],
   "source": [
    "nb = MultinomialNB()\n",
    "nb.fit(Xtr, Ytr)\n",
    "pred = nb.predict(Xde)\n",
    "print(classification_report(Yde, pred, target_names=encoder.classes_))"
   ]
  },
  {
   "cell_type": "markdown",
   "metadata": {},
   "source": [
    "# Final Model: Multinomial Naive Bayesian\n",
    "**Multinomial Naive Bayesian** works the best. Lets run NB on our test data and get the confusion matrix and its heat map.\n",
    "## Predict test data"
   ]
  },
  {
   "cell_type": "code",
   "execution_count": 122,
   "metadata": {},
   "outputs": [
    {
     "name": "stdout",
     "output_type": "stream",
     "text": [
      "                           precision    recall  f1-score   support\n",
      "\n",
      "           ARTS & CULTURE       0.45      0.49      0.47      1545\n",
      "       BUSINESS & FINANCE       0.52      0.63      0.57      1915\n",
      "                    CRIME       0.48      0.69      0.56       861\n",
      "                DIVERSITY       0.53      0.57      0.55      3005\n",
      "                EDUCATION       0.47      0.53      0.50       546\n",
      "              ENVIRONMENT       0.44      0.56      0.49      1847\n",
      "LIFESTYLE & ENTERTAINMENT       0.85      0.71      0.77     10569\n",
      "                 POLITICS       0.83      0.76      0.79      8120\n",
      "     SCIENCE & TECHNOLOGY       0.47      0.47      0.47      1074\n",
      "                   SPORTS       0.62      0.66      0.64      1255\n",
      "                   TRAVEL       0.64      0.80      0.71      2373\n",
      "\n",
      "                 accuracy                           0.68     33110\n",
      "                macro avg       0.57      0.63      0.59     33110\n",
      "             weighted avg       0.70      0.68      0.69     33110\n",
      "\n"
     ]
    },
    {
     "data": {
      "text/plain": [
       "<matplotlib.axes._subplots.AxesSubplot at 0x17b833c1448>"
      ]
     },
     "execution_count": 122,
     "metadata": {},
     "output_type": "execute_result"
    },
    {
     "data": {
      "image/png": "[encoded data removed]",
      "text/plain": [
       "<Figure size 432x288 with 2 Axes>"
      ]
     },
     "metadata": {
      "needs_background": "light"
     },
     "output_type": "display_data"
    }
   ],
   "source": [
    "pred = nb.predict(Xte)\n",
    "print(classification_report(Yte, pred, target_names=encoder.classes_))\n",
    "sns.heatmap(confusion_matrix(Yte, pred))"
   ]
  },
  {
   "cell_type": "code",
   "execution_count": 174,
   "metadata": {},
   "outputs": [
    {
     "name": "stdout",
     "output_type": "stream",
     "text": [
      "0.6787073391724554\n"
     ]
    }
   ],
   "source": [
    "import pickle\n",
    "\n",
    "# save the model to disk\n",
    "model_file, vectorizer_file, selection_file, encoder_file = 'model.pkl', 'vectorizer.pkl', 'selection.pkl', 'encoder.pkl'\n",
    "pickle.dump(nb, open(model_file, 'wb'))\n",
    "pickle.dump(vectorizer, open(vectorizer_file, 'wb'))\n",
    "pickle.dump(selection, open(selection_file, 'wb'))\n",
    "pickle.dump(encoder, open(encoder_file, 'wb'))\n",
    "\n",
    "# load the model from disk\n",
    "loaded_model = pickle.load(open(model_file, 'rb'))\n",
    "vectorizer = pickle.load(open(vectorizer_file, 'rb'))\n",
    "selection_file = pickle.load(open(selection_file, 'rb'))\n",
    "encoder_file = pickle.load(open(encoder_file, 'rb'))\n",
    "result = loaded_model.score(Xte, Yte)\n",
    "print(result)"
   ]
  },
  {
   "cell_type": "markdown",
   "metadata": {},
   "source": [
    "## Multinomial Naive Bayesian Explained\n",
    "We will now try to understand why Naive Bayesian is getting good results. We will get all the coefficents of the features and then print the top 20 words based on its weight. As we can see all the words are closely related to the category, hence multinomial naive bayesian predcits correct label with good F1 score."
   ]
  },
  {
   "cell_type": "code",
   "execution_count": 113,
   "metadata": {},
   "outputs": [
    {
     "name": "stdout",
     "output_type": "stream",
     "text": [
      "ARTS & CULTURE - ['could', 'may', 'book', 'daily', 'made', 'religious', 'artist', 'something', 'life', 'us', 'first', 'pope', 'day', 'women', 'people', 'world', 'god', 'one', 'new', 'art'] \n",
      "\n",
      "BUSINESS & FINANCE - ['like', 'would', 'year', 'world', '7', 'pay', 'bank', 'financial', 'company', 'tax', 'many', 'years', 'wall', 'money', 'new', 'people', 'women', 'time', 'credit', 'business'] \n",
      "\n",
      "CRIME - ['one', 'video', 'people', 'woman', 'found', 'arrested', 'killed', 'cops', 'death', 'officer', 'new', 'say', 'said', 'accused', 'shooting', 'year', 'old', 'allegedly', 'man', 'police'] \n",
      "\n",
      "DIVERSITY - ['many', 'get', 'family', 'men', 'week', 'first', 'us', 'lgbtq', 'love', 'community', 'life', 'like', 'said', 'lgbt', 'year', 'one', 'people', 'new', 'black', 'gay'] \n",
      "\n",
      "EDUCATION - ['get', 'today', 'parents', 'debt', 'good', 'loans', 'president', 'high', 'schools', 'peer', 'one', 'charter', 'like', 'teachers', 'new', 'students', 'student', 'education', 'school', 'college'] \n",
      "\n",
      "ENVIRONMENT - ['week', 'take', 'children', 'last', 'may', 'help', 'two', 'could', 'day', 'life', 'women', 'time', 'year', 'like', 'one', 'world', 'people', 'change', 'climate', 'new'] \n",
      "\n",
      "LIFESTYLE & ENTERTAINMENT - ['make', 'love', 'want', 'first', 'look', 'fashion', 'get', 'time', 'best', 'week', 'trump', 'day', 'divorce', 'video', 'style', 'like', 'one', 'wedding', 'new', 'photos'] \n",
      "\n",
      "POLITICS - ['court', 'would', 'republicans', 'republican', 'house', 'one', 'hillary', 'election', 'people', 'u', 'state', 'said', 'says', 'clinton', 'gop', 'new', 'obama', 'president', 'donald', 'trump'] \n",
      "\n",
      "SCIENCE & TECHNOLOGY - ['back', 'see', 'study', 'look', 'media', 'apple', 'years', 'news', 'first', 'nasa', 'could', 'social', 'scientists', 'twitter', 'facebook', 'week', 'may', 'one', 'video', 'new'] \n",
      "\n",
      "SPORTS - ['games', 'win', 'olympics', 'final', 'two', 'said', 'soccer', 'football', 'one', 'olympic', 'first', 'new', 'team', 'video', 'fan', 'nfl', 'state', 'sports', 'world', 'game'] \n",
      "\n",
      "TRAVEL - ['hotel', 'day', 'summer', 'places', 'many', '10', 'city', 'get', 'vacation', 'year', 'hotels', 'time', 'trip', 'like', 'best', 'one', 'new', 'world', 'photos', 'travel'] \n",
      "\n"
     ]
    },
    {
     "name": "stderr",
     "output_type": "stream",
     "text": [
      "C:\\Users\\Stefa\\AppData\\Roaming\\Python\\Python37\\site-packages\\sklearn\\utils\\deprecation.py:101: FutureWarning: Attribute coef_ was deprecated in version 0.24 and will be removed in 1.1 (renaming of 0.26).\n",
      "  warnings.warn(msg, category=FutureWarning)\n"
     ]
    }
   ],
   "source": [
    "nb1 = MultinomialNB()\n",
    "nb1.fit(Xtr_whole, Ytr_whole)\n",
    "coefs = nb1.coef_\n",
    "target_names = encoder.classes_\n",
    "\n",
    "for i in range(len(target_names)):\n",
    "    words = []\n",
    "    for j in coefs[i].argsort()[-20:]:\n",
    "        words.append(reverse_vocabulary[j])\n",
    "    print (target_names[i], '-', words, \"\\n\")"
   ]
  },
  {
   "cell_type": "code",
   "execution_count": 175,
   "metadata": {},
   "outputs": [
    {
     "name": "stdout",
     "output_type": "stream",
     "text": [
      "('Engine parts from 777 fall over Denver, bringing more woes for United', 'SCIENCE & TECHNOLOGY')\n"
     ]
    }
   ],
   "source": [
    "def categorize(model, vectorizer, selection, encoder, input_iterable):\n",
    "    text_input = np.array(input_iterable)\n",
    "    X = vectorizer.transform(iter(test_input))\n",
    "    X = selection.transform(X)\n",
    "    pred = model.predict(X)\n",
    "    return encoder.inverse_transform(pred)\n",
    "\n",
    "input_test = [\"Engine parts from 777 fall over Denver, bringing more woes for United\"]\n",
    "res = categorize(nb, vectorizer, selection, encoder, input_test)\n",
    "zipped = zip(input_test, res)\n",
    "for pair in zipped:\n",
    "    print(pair)"
   ]
  },
  {
   "cell_type": "code",
   "execution_count": 14,
   "metadata": {},
   "outputs": [],
   "source": [
    "# import copy\n",
    "import numpy as np\n",
    "# import matplotlib.pyplot as plt\n",
    "# import re\n",
    "# import nltk\n",
    "# nltk.download('stopwords')\n",
    "# from sklearn.model_selection import train_test_split\n",
    "# from sklearn.feature_extraction.text import CountVectorizer\n",
    "# from sklearn.preprocessing import LabelEncoder\n",
    "# from sklearn.feature_selection import VarianceThreshold\n",
    "# import imblearn\n",
    "# from imblearn.over_sampling import SMOTE\n",
    "# from sklearn.dummy import DummyClassifier\n",
    "# from sklearn.naive_bayes import MultinomialNB\n",
    "# from sklearn.tree import DecisionTreeClassifier\n",
    "# from sklearn.neural_network import MLPClassifier\n",
    "# from sklearn.ensemble import RandomForestClassifier\n",
    "# #from sklearn.metrics import accuracy_score\n",
    "# #from sklearn.model_selection import cross_val_score, KFold\n",
    "# from sklearn.metrics import confusion_matrix\n",
    "# from sklearn.metrics import classification_report\n",
    "# import seaborn as sns\n",
    "# import pandas as pd\n",
    "import pickle\n",
    "\n",
    "class NewsClassifier:\n",
    "    def __init__(self, model_path='model.pkl', vectorizer_path='vectorizer.pkl', selection_path='selection.pkl', encoder_path='encoder.pkl'):\n",
    "        self.model_path = model_path\n",
    "        self.vectorizer_path = vectorizer_path\n",
    "        self.selection_path = selection_path\n",
    "        self.encoder_path = encoder_path\n",
    "        \n",
    "    def update_paths(self, model_path=None, vectorizer_path=None, selection_path=None, encoder_path=None):\n",
    "        if model_path:\n",
    "            self.model_path = model_path\n",
    "        if vectorizer_path:\n",
    "            self.vectorizer_path = vectorizer_path\n",
    "        if selection_path:\n",
    "            self.selection_path = selection_path\n",
    "        if encoder_path:\n",
    "            self.encoder_path = encoder_path\n",
    "    \n",
    "    def load(self):\n",
    "        self.model = pickle.load(open(self.model_path, 'rb'))\n",
    "        self.vectorizer = pickle.load(open(self.vectorizer_path, 'rb'))\n",
    "        self.selection = pickle.load(open(self.selection_path, 'rb'))\n",
    "        self.encoder = pickle.load(open(self.encoder_path, 'rb'))\n",
    "        \n",
    "    def save(self):\n",
    "        pickle.dump(self.model, open(self.model_path, 'wb'))\n",
    "        pickle.dump(self.vectorizer, open(vectorizer_path, 'wb'))\n",
    "        pickle.dump(self.selection, open(selection_path, 'wb'))\n",
    "        pickle.dump(self.encoder, open(encoder_path, 'wb'))\n",
    "    \n",
    "    def predict(self, input_iterable):\n",
    "        X = self.vectorizer.transform(iter(np.array(input_iterable)))\n",
    "        X = self.selection.transform(X)\n",
    "        pred = self.model.predict(X)\n",
    "        return self.encoder.inverse_transform(pred)"
   ]
  },
  {
   "cell_type": "code",
   "execution_count": 7,
   "metadata": {},
   "outputs": [],
   "source": [
    "model_file, vectorizer_file, selection_file, encoder_file = 'model.pkl', 'vectorizer.pkl', 'selection.pkl', 'encoder.pkl'\n",
    "\n",
    "# load the model from disk\n",
    "loaded_model = pickle.load(open(model_file, 'rb'))\n",
    "vectorizer = pickle.load(open(vectorizer_file, 'rb'))\n",
    "selection = pickle.load(open(selection_file, 'rb'))\n",
    "encoder = pickle.load(open(encoder_file, 'rb'))\n",
    "\n",
    "def categorize(model, vectorizer, selection, encoder, input_iterable):\n",
    "    \n"
   ]
  },
  {
   "cell_type": "code",
   "execution_count": 15,
   "metadata": {},
   "outputs": [
    {
     "name": "stdout",
     "output_type": "stream",
     "text": [
      "(\"Salad's covid relief bill passes the house and heads on to the senate\", 'POLITICS')\n",
      "('Notorious pirate Tristan brown apprehended by police on tuesday morning', 'CRIME')\n",
      "('top scientist neil griffith discovers cure for cancer', 'SCIENCE & TECHNOLOGY')\n",
      "('Stefan leads the LA lakers with 40 points to win the NBA finals', 'SPORTS')\n"
     ]
    }
   ],
   "source": [
    "classifier = NewsClassifier()\n",
    "classifier.load()\n",
    "input_test = [\"Salad's covid relief bill passes the house and heads on to the senate\", \"Notorious pirate Tristan brown apprehended by police on tuesday morning\", \"top scientist neil griffith discovers cure for cancer\", \"Stefan leads the LA lakers with 40 points to win the NBA finals\"]\n",
    "res = classifier.predict(input_test)\n",
    "\n",
    "# res = categorize(loaded_model, vectorizer, selection, encoder, input_test)\n",
    "zipped = zip(input_test, res)\n",
    "for pair in zipped:\n",
    "    print(pair)"
   ]
  }
 ],
 "metadata": {
  "kernelspec": {
   "display_name": "Python 3",
   "language": "python",
   "name": "python3"
  },
  "language_info": {
   "codemirror_mode": {
    "name": "ipython",
    "version": 3
   },
   "file_extension": ".py",
   "mimetype": "text/x-python",
   "name": "python",
   "nbconvert_exporter": "python",
   "pygments_lexer": "ipython3",
   "version": "3.7.6"
  }
 },
 "nbformat": 4,
 "nbformat_minor": 2
}
